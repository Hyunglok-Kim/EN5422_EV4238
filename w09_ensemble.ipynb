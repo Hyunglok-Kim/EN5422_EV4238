{
  "nbformat": 4,
  "nbformat_minor": 0,
  "metadata": {
    "colab": {
      "provenance": []
    },
    "kernelspec": {
      "name": "python3",
      "display_name": "Python 3"
    },
    "language_info": {
      "name": "python"
    }
  },
  "cells": [
    {
      "cell_type": "code",
      "source": [
        "# Load and Visualize the Data\n",
        "from sklearn.datasets import fetch_california_housing\n",
        "import pandas as pd\n",
        "import seaborn as sns\n",
        "import matplotlib.pyplot as plt\n",
        "\n",
        "california = fetch_california_housing()\n",
        "df = pd.DataFrame(california.data, columns=california.feature_names)\n",
        "df['MedHouseVal'] = california.target\n",
        "\n",
        "sns.histplot(df['MedHouseVal'], binwidth=0.1)\n",
        "plt.show()\n",
        "\n",
        "# Train/Test Split\n",
        "from sklearn.model_selection import train_test_split\n",
        "\n",
        "train_df, test_df = train_test_split(df, test_size=500/len(df), random_state=2023)\n",
        "\n",
        "# Random Forest Model\n",
        "from sklearn.ensemble import RandomForestRegressor\n",
        "\n",
        "rf_model = RandomForestRegressor(random_state=2023)\n",
        "rf_model.fit(train_df.drop('MedHouseVal', axis=1), train_df['MedHouseVal'])\n",
        "rf_pred = rf_model.predict(test_df.drop('MedHouseVal', axis=1))\n",
        "\n",
        "# Elastic Net Model\n",
        "from sklearn.linear_model import ElasticNetCV\n",
        "\n",
        "elastic_net_model = ElasticNetCV(cv=10, random_state=2023)\n",
        "elastic_net_model.fit(train_df.drop('MedHouseVal', axis=1), train_df['MedHouseVal'])\n",
        "en_pred = elastic_net_model.predict(test_df.drop('MedHouseVal', axis=1))\n",
        "\n",
        "# SVM Model (SVR - Support Vector Regressor)\n",
        "from sklearn.svm import SVR\n",
        "\n",
        "svm_model = SVR()\n",
        "svm_model.fit(train_df.drop('MedHouseVal', axis=1), train_df['MedHouseVal'])\n",
        "svm_pred = svm_model.predict(test_df.drop('MedHouseVal', axis=1))\n",
        "\n",
        "# Random Model\n",
        "import numpy as np\n",
        "\n",
        "def random_model(data_test):\n",
        "    return np.random.uniform(0, 5, len(data_test))\n",
        "\n",
        "rand_pred = random_model(test_df)\n",
        "\n",
        "# Stacking Linear Regression Model\n",
        "import statsmodels.api as sm\n",
        "\n",
        "X_stacking = sm.add_constant(np.column_stack([rf_pred, en_pred, svm_pred, rand_pred]))\n",
        "model_stacking = sm.OLS(test_df['MedHouseVal'], X_stacking)\n",
        "results = model_stacking.fit()\n",
        "stacking_pred = results.predict(X_stacking)\n",
        "\n",
        "# Display the summary of the stacking model\n",
        "print(results.summary())\n",
        "\n",
        "# Calculate RMSE for Each Model\n",
        "from sklearn.metrics import mean_squared_error\n",
        "\n",
        "rf_rmse = mean_squared_error(test_df['MedHouseVal'], rf_pred, squared=False)\n",
        "en_rmse = mean_squared_error(test_df['MedHouseVal'], en_pred, squared=False)\n",
        "svm_rmse = mean_squared_error(test_df['MedHouseVal'], svm_pred, squared=False)\n",
        "rand_rmse = mean_squared_error(test_df['MedHouseVal'], rand_pred, squared=False)\n",
        "stacking_rmse = mean_squared_error(test_df['MedHouseVal'], stacking_pred, squared=False)\n",
        "\n",
        "# Compare Model Performances\n",
        "rmse_comparison = pd.DataFrame({\n",
        "    'Model': ['Random Forest', 'Elastic Net', 'SVM', 'Random Model', 'Stacking Model'],\n",
        "    'RMSE': [rf_rmse, en_rmse, svm_rmse, rand_rmse, stacking_rmse]\n",
        "})\n",
        "\n",
        "print(rmse_comparison)"
      ],
      "metadata": {
        "colab": {
          "base_uri": "https://localhost:8080/",
          "height": 1000
        },
        "id": "WtpSFKRTIzzO",
        "outputId": "83ad1519-3141-4da8-abb3-819e329f8785"
      },
      "execution_count": 1,
      "outputs": [
        {
          "output_type": "display_data",
          "data": {
            "text/plain": [
              "<Figure size 640x480 with 1 Axes>"
            ],
            "image/png": "[encoded data removed]"
          },
          "metadata": {}
        },
        {
          "output_type": "stream",
          "name": "stdout",
          "text": [
            "                            OLS Regression Results                            \n",
            "==============================================================================\n",
            "Dep. Variable:            MedHouseVal   R-squared:                       0.822\n",
            "Model:                            OLS   Adj. R-squared:                  0.820\n",
            "Method:                 Least Squares   F-statistic:                     570.7\n",
            "Date:                Tue, 05 Dec 2023   Prob (F-statistic):          5.15e-184\n",
            "Time:                        02:23:59   Log-Likelihood:                -353.75\n",
            "No. Observations:                 501   AIC:                             717.5\n",
            "Df Residuals:                     496   BIC:                             738.6\n",
            "Df Model:                           4                                         \n",
            "Covariance Type:            nonrobust                                         \n",
            "==============================================================================\n",
            "                 coef    std err          t      P>|t|      [0.025      0.975]\n",
            "------------------------------------------------------------------------------\n",
            "const          0.8084      0.567      1.425      0.155      -0.306       1.923\n",
            "x1             1.0662      0.040     26.958      0.000       0.988       1.144\n",
            "x2            -0.0357      0.050     -0.708      0.479      -0.135       0.063\n",
            "x3            -0.4668      0.327     -1.426      0.154      -1.110       0.176\n",
            "x4            -0.0097      0.016     -0.622      0.534      -0.040       0.021\n",
            "==============================================================================\n",
            "Omnibus:                       77.546   Durbin-Watson:                   1.916\n",
            "Prob(Omnibus):                  0.000   Jarque-Bera (JB):              348.564\n",
            "Skew:                           0.592   Prob(JB):                     2.04e-76\n",
            "Kurtosis:                       6.911   Cond. No.                         135.\n",
            "==============================================================================\n",
            "\n",
            "Notes:\n",
            "[1] Standard Errors assume that the covariance matrix of the errors is correctly specified.\n",
            "            Model      RMSE\n",
            "0   Random Forest  0.493274\n",
            "1     Elastic Net  0.775140\n",
            "2             SVM  1.187470\n",
            "3    Random Model  1.835495\n",
            "4  Stacking Model  0.490246\n"
          ]
        }
      ]
    }
  ]
}