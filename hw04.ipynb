{
  "nbformat": 4,
  "nbformat_minor": 0,
  "metadata": {
    "colab": {
      "provenance": []
    },
    "kernelspec": {
      "name": "python3",
      "display_name": "Python 3"
    },
    "language_info": {
      "name": "python"
    }
  },
  "cells": [
    {
      "cell_type": "markdown",
      "source": [
        "# Homework #4: Classification\n",
        "\n",
        "## Crime Linkage\n",
        "\n",
        "Crime linkage attempts to determine if two or more unsolved crimes share a common offender. *Pairwise* crime linkage is the more simple task of deciding if two crimes share a common offender; it can be considered a binary classification problem. The linkage training data has 8 evidence variables that measure the similarity between a pair of crimes:\n",
        "\n",
        "- `spatial` is the spatial distance between the crimes\n",
        "- `temporal` is the fractional time (in days) between the crimes\n",
        "- `tod` and `dow` are the differences in time of day and day of week between the crimes\n",
        "- `LOC`, `POA,` and `MOA` are binary with a 1 corresponding to a match (type of property, point of entry, method of entry)\n",
        "- `TIMERANGE` is the time between the earliest and latest possible times the crime could have occurred (because the victim was away from the house during the crime).\n",
        "- The response variable indicates if the crimes are linked ($y=1$) or unlinked ($y=0$).\n",
        "\n",
        "These problems use the [linkage-train](https://github.com/Hyunglok-Kim/EN5422_EV4238/blob/main/linkage_train.csv) and [linkage-test](https://github.com/Hyunglok-Kim/EN5422_EV4238/blob/main/linkage_test.csv) datasets (click on links for data). Load the data here:\n",
        "\n"
      ],
      "metadata": {
        "id": "4q3Nq5HksIuI"
      }
    },
    {
      "cell_type": "code",
      "execution_count": null,
      "metadata": {
        "id": "HqAOm4dvsGQN"
      },
      "outputs": [],
      "source": [
        "# Add solution here"
      ]
    },
    {
      "cell_type": "markdown",
      "source": [
        "# Problem 4.1: Penalized Regression for Crime Linkage\n",
        "\n",
        "## a. Penalized linear regression\n",
        "\n",
        "Fit a penalized *linear* regression model to predict linkage. Use a lasso, ridge, or elasticnet penalty (your choice).\n",
        "\n",
        "- Report the value of $\\alpha$ used (if elasticnet)\n",
        "- Report the value of $\\lambda$ used\n",
        "- Report the estimated coefficients"
      ],
      "metadata": {
        "id": "hBECEhTatOa7"
      }
    },
    {
      "cell_type": "code",
      "source": [
        "# Add solution here"
      ],
      "metadata": {
        "id": "AAKfVjv4tWY8"
      },
      "execution_count": null,
      "outputs": []
    },
    {
      "cell_type": "markdown",
      "source": [
        "## b. Penalized logistic regression\n",
        "\n",
        "Fit a penalized *logistic* regression model to predict linkage. Use a lasso, ridge, or elasticnet penalty (your choice).  \n",
        "\n",
        "- Report the value of $\\alpha$ used (if elasticnet)\n",
        "- Report the value of $\\lambda$ used\n",
        "- Report the estimated coefficients"
      ],
      "metadata": {
        "id": "wLS-CCt8tYHI"
      }
    },
    {
      "cell_type": "code",
      "source": [
        "# Add solution here"
      ],
      "metadata": {
        "id": "yQfuGk5MtbFw"
      },
      "execution_count": null,
      "outputs": []
    },
    {
      "cell_type": "markdown",
      "source": [
        "## c. ROC Curves (training data)\n",
        "\n",
        "Produce one plot that has the ROC curves, using the *training data*, for both models (from part a and b). Use color and/or linetype to distinguish between models and include a legend.   "
      ],
      "metadata": {
        "id": "bOd0-b87thQr"
      }
    },
    {
      "cell_type": "code",
      "source": [
        "# Add solution here"
      ],
      "metadata": {
        "id": "cMMyALXTtghj"
      },
      "execution_count": null,
      "outputs": []
    },
    {
      "cell_type": "markdown",
      "source": [
        "## d. ROC Curve (hold-out data)\n",
        "\n",
        "Recreate the ROC curve from the penalized logistic regression model using repeated hold-out data. The following steps will guide you:\n",
        "\n",
        "- Fix $\\alpha=.75$\n",
        "- Run the following steps 25 times:  \n",
        "i. Hold out 500 observations  \n",
        "ii. Use the remaining observations to estimate $\\lambda$ using 10-fold CV  \n",
        "iii. Predict the probability of linkage for the 500 hold-out observations  \n",
        "iv. Store the predictions and hold-out labels\n",
        "- Combine the results and produce the hold-out based ROC curve\n",
        "- Note: by estimating $\\lambda$ each iteration, we are incorporating the uncertainty present in estimating that tuning parameter."
      ],
      "metadata": {
        "id": "blzV8Cs1tl4J"
      }
    },
    {
      "cell_type": "code",
      "source": [
        "# Add solution here"
      ],
      "metadata": {
        "id": "yO3r588ztliW"
      },
      "execution_count": null,
      "outputs": []
    },
    {
      "cell_type": "markdown",
      "source": [
        "## e. Contest Part 1: Probability\n",
        "\n",
        "Predict the estimated *probability* of linkage for the test data (using any model).\n",
        "\n",
        "- Submit a .csv file (ensure comma separated format) named `lastname_firstname_1.csv` that includes the column named **p** that is your estimated posterior probability. We will use automated evaluation, so the format must be exact.\n",
        "- You are free to use any tuning parameters\n",
        "- You are free to use any data transformation or feature engineering\n",
        "- You will receive credit for a proper submission; the top five scores will receive 2 bonus points.     \n",
        "- Your probabilities will be evaluated with respect to the mean negative Bernoulli log-likelihood (known as the average *log-loss* metric)\n",
        "$$\n",
        "L = - \\frac{1}{M} \\sum_{i=1}^m [y_i \\log \\, \\hat{p}_i + (1 - y_i) \\log \\, (1 - \\hat{p}_i)]\n",
        "$$\n",
        "where $M$ is the number of test observations, $\\hat{p}_i$ is the prediction for the $i$th test observation, and $y_i \\in \\{0,1\\}$ are the true test set labels."
      ],
      "metadata": {
        "id": "AjCdP2Wvuq1v"
      }
    },
    {
      "cell_type": "code",
      "source": [
        "# Add solution here"
      ],
      "metadata": {
        "id": "dj3W7PNeuzJ8"
      },
      "execution_count": null,
      "outputs": []
    },
    {
      "cell_type": "markdown",
      "source": [
        "## f. Contest Part 2: Linkages\n",
        "\n",
        "Predict the linkages for the test data (using any model).\n",
        "\n",
        "- Submit a .csv file (ensure comma separated format) named `lastname_firstname_2.csv` that includes the column named **linkage** that takes the value of 1 for linkages and 0 for unlinked pairs. We will use automated evaluation, so the format must be exact.\n",
        "- You are free to use any tuning parameters.\n",
        "- You are free to use any data transformation or feature engineering.\n",
        "- Your labels will be evaluated based on total cost, where cost is equal to `1*FP + 8*FN`. This implies that False Negatives (FN) are 8 times as costly as False Positives (FP)    \n",
        "- You will receive credit for a proper submission; the top five scores will receive 2 bonus points.  \n"
      ],
      "metadata": {
        "id": "jjVfU56DtqWV"
      }
    },
    {
      "cell_type": "code",
      "source": [
        "# Add solution here"
      ],
      "metadata": {
        "id": "C-6cH03_ttiH"
      },
      "execution_count": null,
      "outputs": []
    }
  ]
}