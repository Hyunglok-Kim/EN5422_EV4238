{
  "nbformat": 4,
  "nbformat_minor": 0,
  "metadata": {
    "colab": {
      "provenance": []
    },
    "kernelspec": {
      "name": "python3",
      "display_name": "Python 3"
    },
    "language_info": {
      "name": "python"
    }
  },
  "cells": [
    {
      "cell_type": "markdown",
      "source": [
        "# Homework #1: Supervised Learning\n",
        "\n",
        "\n",
        "**\n",
        "\n",
        "**Your Name Here**\n",
        "<br>\n",
        "Due: Tue, Sept 12 | Fall 2023 | GIST"
      ],
      "metadata": {
        "id": "2xtfLiUitULz"
      }
    },
    {
      "cell_type": "markdown",
      "source": [
        "### Problem 1.1: Evaluating a Regression Model\n",
        "\n",
        "a. Create a set of functions to generate data from the following distributions:\n",
        "\\begin{align*}\n",
        "X &\\sim \\mathcal{N}(0, 1) \\\\\n",
        "Y &= -1 + .5X + .2X^2 + \\epsilon \\\\\n",
        "\\epsilon &\\sim \\mathcal{N}(0,\\, \\sigma)\n",
        "\\end{align*}"
      ],
      "metadata": {
        "id": "1AJaN92ytM9-"
      }
    },
    {
      "cell_type": "code",
      "source": [
        "# Add solution here\n",
        "# First you need to import all the necessary library such as numpy and random\n",
        "import numpy as np\n",
        "import random"
      ],
      "metadata": {
        "id": "-xo4RM7XuFO2"
      },
      "execution_count": null,
      "outputs": []
    },
    {
      "cell_type": "markdown",
      "source": [
        "b. Simulate $n=100$ realizations from these distributions using $\\sigma=3$. Produce a scatterplot and draw the true regression line $f(x) = E[Y \\mid X=x]$. Use `random.seed(321)` prior to generating the data."
      ],
      "metadata": {
        "id": "NRSGw1Nbut0x"
      }
    },
    {
      "cell_type": "code",
      "source": [
        "# Add solution here"
      ],
      "metadata": {
        "id": "gBNBFdyhuxhK"
      },
      "execution_count": null,
      "outputs": []
    },
    {
      "cell_type": "markdown",
      "source": [
        "c. Fit three polynomial regression models using least squares: linear, quadratic, and cubic. Produce another scatterplot, add the fitted lines and true population line $f(x)$  using different colors, and add a legend that maps the line color to a model.\n",
        "\n",
        "    - Note: Notice that while the true model is quadratic, we are also fitting linear (less complex) and cubic (more complex) models."
      ],
      "metadata": {
        "id": "Kw3IOeaKuwuQ"
      }
    },
    {
      "cell_type": "code",
      "source": [
        "# Add solution here"
      ],
      "metadata": {
        "id": "Ky4CseMeu74N"
      },
      "execution_count": null,
      "outputs": []
    },
    {
      "cell_type": "markdown",
      "source": [
        "d. Simulate a test data set of $10000$ observations from the same distributions. Use `random.seed(321)` prior to generating the test data. Calculate the estimated mean squared error (MSE) for each model.\n",
        "Are the results as expected?"
      ],
      "metadata": {
        "id": "o0mzl89Wu6Xu"
      }
    },
    {
      "cell_type": "code",
      "source": [
        "# Add solution here"
      ],
      "metadata": {
        "id": "CpPdVWC3v-ko"
      },
      "execution_count": null,
      "outputs": []
    },
    {
      "cell_type": "markdown",
      "source": [
        "e. What is the best achievable MSE? That is, what is the MSE if the true $f(x)$ was used to evaluate the test set? How close does the best method come to achieving the optimum?"
      ],
      "metadata": {
        "id": "YI4esg9EwBAq"
      }
    },
    {
      "cell_type": "code",
      "source": [
        "# Add solution here"
      ],
      "metadata": {
        "id": "MPlhYOJ3wEPb"
      },
      "execution_count": null,
      "outputs": []
    },
    {
      "cell_type": "markdown",
      "source": [
        "f. The MSE scores obtained in part *d* came from one realization of training data. Here will we explore how much variation there is in the MSE scores by replicating the simulation many times.\n",
        "    \n",
        "    - Re-run the same simulation in part *d* 100 times.\n",
        "    - Create kernel density plots (you choose bandwidth) of the resulting MSE values for each model.\n",
        "    - Use `random.seed(613)` prior to running the simulation and do not set the seed in any other places."
      ],
      "metadata": {
        "id": "bvbghQV-wLGQ"
      }
    },
    {
      "cell_type": "code",
      "source": [
        "# Add solution here"
      ],
      "metadata": {
        "id": "bN6H11nzwMOw"
      },
      "execution_count": null,
      "outputs": []
    },
    {
      "cell_type": "markdown",
      "source": [
        "g. Show a count of how many times each model was the best. That is, out of the 100 simulations, count how many times each model had the lowest MSE."
      ],
      "metadata": {
        "id": "cgz-UlIzwUJ-"
      }
    },
    {
      "cell_type": "code",
      "source": [
        "# Add solution here"
      ],
      "metadata": {
        "id": "nhl45lI8wWvs"
      },
      "execution_count": null,
      "outputs": []
    },
    {
      "cell_type": "markdown",
      "source": [
        "h. Repeat the simulation in part *g*, but use $\\sigma=2$. Report the number of times each model was best (you do not need to produce any plots). Use the same `random.seed(321)` prior to running the simulation and do not set the seed in any other places."
      ],
      "metadata": {
        "id": "InTEKqtHwYJg"
      }
    },
    {
      "cell_type": "code",
      "source": [
        "# Add solution here"
      ],
      "metadata": {
        "id": "U3kmDH5ow0OG"
      },
      "execution_count": null,
      "outputs": []
    },
    {
      "cell_type": "markdown",
      "source": [
        "i. Repeat *g*, but now use $\\sigma=4$ and $n=200$."
      ],
      "metadata": {
        "id": "MEtNN4kyw1tN"
      }
    },
    {
      "cell_type": "code",
      "source": [
        "# Add solution here"
      ],
      "metadata": {
        "id": "CPVFwqH8w4aF"
      },
      "execution_count": null,
      "outputs": []
    },
    {
      "cell_type": "markdown",
      "source": [
        "j. Describe the effects $\\sigma$ and $n$ has on selection of the best model? Why is the *true* model form (i.e., quadratic) not always the *best* model to use when prediction is the goal?"
      ],
      "metadata": {
        "id": "Lx859RpUw5xM"
      }
    },
    {
      "cell_type": "code",
      "source": [
        "# Add solution here"
      ],
      "metadata": {
        "id": "l5PPBG8Kw-LZ"
      },
      "execution_count": null,
      "outputs": []
    }
  ]
}